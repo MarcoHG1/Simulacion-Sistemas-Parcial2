{
 "cells": [
  {
   "cell_type": "code",
   "execution_count": 23,
   "metadata": {},
   "outputs": [
    {
     "name": "stdout",
     "output_type": "stream",
     "text": [
      "Los numeros RI pasaron la prueba de Kolmogorov Smirnov!!!!!\n",
      "Valor de Tablas ---> 0.013600000000000001\n",
      "maximoINRi --------> 0.004830000000000001\n"
     ]
    }
   ],
   "source": [
    "import math\n",
    "\n",
    "numeros = []\n",
    "listaIN = []\n",
    "listaI1N = []\n",
    "listaINRi = []\n",
    "listaRiI1N = []\n",
    "i = 1\n",
    "\n",
    "with open(f'./files/Numeros4.csv') as f:\n",
    "    for line in f:\n",
    "        temp = line.strip().split(',')  \n",
    "        for num in temp:\n",
    "            if num != '':\n",
    "                numeros.append(float(num))\n",
    "\n",
    "numeros.sort()\n",
    "n = len(numeros)\n",
    "\n",
    "for a in range(n):\n",
    "    listaIN.append(i / n)\n",
    "    i += 1\n",
    "\n",
    "i = 1\n",
    "\n",
    "for aa in range(n):\n",
    "    listaI1N.append((i - 1) / n)\n",
    "    i += 1\n",
    "\n",
    "for b in range(n):\n",
    "    listaINRi.append(listaIN[b] - numeros[b])\n",
    "\n",
    "for b in range(n):\n",
    "    listaRiI1N.append(numeros[b] - listaI1N[b])\n",
    "\n",
    "maximoINRi = max(listaINRi)\n",
    "maximoRiI1N = max(listaRiI1N)\n",
    "\n",
    "''' Valor de tablas '''\n",
    "valorTablas = 1.36 / (math.sqrt(n))\n",
    "\n",
    "if maximoINRi > maximoRiI1N:\n",
    "    if maximoINRi < valorTablas:\n",
    "        print(\"Los numeros RI pasaron la prueba de Kolmogorov Smirnov!!!!!\")\n",
    "        print(\"Valor de Tablas --->\", valorTablas)\n",
    "        print(\"maximoINRi -------->\", maximoINRi)\n",
    "    else:\n",
    "        print(\"NO paso la prueba!!!\")\n",
    "else:\n",
    "    if maximoRiI1N < valorTablas:\n",
    "        print(\"Los numeros RI pasaron la prueba de Kolmogorov Smirnov!!!!!\")\n",
    "        print(\"Valor de Tablas --->\", valorTablas)\n",
    "        print(\"maximoRiI1N ------->\", maximoRiI1N)\n",
    "    else:\n",
    "         print(\"NO paso la prueba!!!\")       \n",
    "\n",
    "\n"
   ]
  },
  {
   "cell_type": "code",
   "execution_count": null,
   "metadata": {},
   "outputs": [],
   "source": []
  }
 ],
 "metadata": {
  "interpreter": {
   "hash": "af153e239d61b5c0d363f35fe8a0509d492506f382d017c98fa3fb49fce70a72"
  },
  "kernelspec": {
   "display_name": "Python 3.10.2 64-bit",
   "language": "python",
   "name": "python3"
  },
  "language_info": {
   "codemirror_mode": {
    "name": "ipython",
    "version": 3
   },
   "file_extension": ".py",
   "mimetype": "text/x-python",
   "name": "python",
   "nbconvert_exporter": "python",
   "pygments_lexer": "ipython3",
   "version": "3.10.2"
  },
  "orig_nbformat": 4
 },
 "nbformat": 4,
 "nbformat_minor": 2
}
