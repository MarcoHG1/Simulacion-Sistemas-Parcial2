{
 "cells": [
  {
   "cell_type": "code",
   "execution_count": 5,
   "metadata": {},
   "outputs": [
    {
     "name": "stdout",
     "output_type": "stream",
     "text": [
      "Los números Ri PASARON LA PRUEBA!!!\n",
      "1.96\n",
      "-0.0005808516490387451\n",
      "-1.96\n"
     ]
    }
   ],
   "source": [
    "import math\n",
    "numeros = []\n",
    "lista1y0 = []\n",
    "n0 = 0\n",
    "n1 = 0\n",
    "valorTablas = 1.96\n",
    "valorTablasNegativo = -1.96\n",
    "\n",
    "with open(f'./files/Numeros4.csv') as f:\n",
    "    for line in f:\n",
    "        temp = line.strip().split(',')  \n",
    "        for num in temp:\n",
    "            if num != '':\n",
    "                numeros.append(float(num))\n",
    "\n",
    "for i in range(len(numeros)):\n",
    "    if numeros[i] >= 0.5:\n",
    "        lista1y0.append(1)\n",
    "    elif numeros[i] < 0.5:\n",
    "        lista1y0.append(0)\n",
    "\n",
    "\n",
    "if lista1y0[len(lista1y0) - 1] == 0:\n",
    "        n0 += 1\n",
    "else:\n",
    "        n1 += 1\n",
    "\n",
    "for x in range(len(lista1y0) - 1):\n",
    "    if lista1y0[x] != lista1y0[x + 1]:\n",
    "        if lista1y0[x] == 0:\n",
    "            n0 += 1\n",
    "        else:\n",
    "            n1 += 1\n",
    "\n",
    "ceros = lista1y0.count(0)\n",
    "unos = lista1y0.count(1)\n",
    "\n",
    "c0 = n0 + n1\n",
    "\n",
    "uC0 = (( 2 * ceros * unos ) / len(numeros)) + 0.5\n",
    "C02 = (((2 * ceros * unos ) * (( 2 * ceros * unos) - len(numeros))) / (len(numeros) ** 2) * (len(numeros) - 1))\n",
    "Z0 = ((c0 - uC0) / (math.sqrt(C02)))\n",
    "\n",
    "if ( valorTablasNegativo <= Z0 <= valorTablas):\n",
    "    print(\"Los números Ri PASARON LA PRUEBA!!!\")\n",
    "    print(valorTablas)\n",
    "    print(Z0)\n",
    "    print(valorTablasNegativo)\n",
    "else:\n",
    "    print(\"NO PASO LA PRUEBA!!!\")\n"
   ]
  }
 ],
 "metadata": {
  "interpreter": {
   "hash": "af153e239d61b5c0d363f35fe8a0509d492506f382d017c98fa3fb49fce70a72"
  },
  "kernelspec": {
   "display_name": "Python 3.10.2 64-bit",
   "language": "python",
   "name": "python3"
  },
  "language_info": {
   "codemirror_mode": {
    "name": "ipython",
    "version": 3
   },
   "file_extension": ".py",
   "mimetype": "text/x-python",
   "name": "python",
   "nbconvert_exporter": "python",
   "pygments_lexer": "ipython3",
   "version": "3.10.2"
  },
  "orig_nbformat": 4
 },
 "nbformat": 4,
 "nbformat_minor": 2
}
