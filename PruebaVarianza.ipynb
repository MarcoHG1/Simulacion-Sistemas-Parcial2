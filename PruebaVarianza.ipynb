{
 "cells": [
  {
   "cell_type": "code",
   "execution_count": 4,
   "metadata": {},
   "outputs": [
    {
     "name": "stdout",
     "output_type": "stream",
     "text": [
      "Los números RI NO HAN PASADO LA PRUEBA\n"
     ]
    }
   ],
   "source": [
    "numeros = []\n",
    "RiMenosMedia = []\n",
    "CuadradoRiMedia = []\n",
    "n = 10000\n",
    "alfa = 0.05\n",
    "alfaSobre2 = alfa / 2\n",
    "unoMnsAlfaSobre2 = (1 - alfa) / 2\n",
    "gradosLibertad = n - 1\n",
    "\n",
    "\n",
    "with open(f'./files/Numeros2.csv') as f:\n",
    "    for line in f:\n",
    "        temp = line.strip().split(',')  \n",
    "        for num in temp:\n",
    "            if num != '':\n",
    "                numeros.append(float(num))\n",
    "\n",
    "sumaRi = sum(numeros)\n",
    "MediaRi = (1/n) * sumaRi\n",
    "\n",
    "for i in range(len(numeros)):\n",
    "    RiMenosMedia.append(numeros[i] - MediaRi)\n",
    "\n",
    "for i in range(len(RiMenosMedia)):\n",
    "    CuadradoRiMedia.append(RiMenosMedia[i] ** 2)\n",
    "\n",
    "SumaCuadradoRiMedia = sum(CuadradoRiMedia)\n",
    "Varianza = SumaCuadradoRiMedia / (n - 1)\n",
    "chiCuadrada = 0.5 * ((-2.81 + (((2* gradosLibertad) - 1) ** 0.5)) ** 2)\n",
    "chiCuadradaMenosAlfa = 0.5 * ((0.06 + (((2* gradosLibertad) - 1) ** 0.5)) ** 2)\n",
    "limiteInferior = chiCuadrada / (12 * (n - 1))\n",
    "limiteSuperior = chiCuadradaMenosAlfa / (12 * (n - 1))\n",
    "\n",
    "if (Varianza > limiteInferior) & (Varianza < limiteSuperior):\n",
    "    print(\"Los números RI han pasado la prueba de VARIANZA satisfactoriamente!!!\")\n",
    "else:\n",
    "    print(\"Los números RI NO HAN PASADO LA PRUEBA\")\n",
    "\n"
   ]
  },
  {
   "cell_type": "code",
   "execution_count": null,
   "metadata": {},
   "outputs": [],
   "source": [
    "print(\"Limite Inferior -->\", limiteInferior)\n",
    "print(\"Varianza --------->\", Varianza)\n",
    "print(\"Limite Superior -->\", limiteSuperior)"
   ]
  },
  {
   "cell_type": "code",
   "execution_count": 16,
   "metadata": {},
   "outputs": [
    {
     "name": "stdout",
     "output_type": "stream",
     "text": [
      "876.8753153001458\n",
      "1001.1830683565807\n",
      "0.07314608903070952\n",
      "0.08351543780084925\n",
      "284.68468468468467\n",
      "*-*-*-*-*-*\n",
      "[0, 10, 90, 190, 490]\n",
      "-0.492132568999999\n",
      "-0.49213\n"
     ]
    }
   ],
   "source": [
    "\n",
    "Numeros = [10, 20, 100, 200, 500]\n",
    "RimenosMedia = []\n",
    "Cuadrado = []\n",
    "media = 10\n",
    "n = 1000\n",
    "\n",
    "for i in range(len(Numeros)):\n",
    "    RimenosMedia.append(Numeros[i] - media)\n",
    "\n",
    "\n",
    "for i in range(len(RimenosMedia)):\n",
    "    Cuadrado.append(RimenosMedia[i] ** 2)\n",
    "\n",
    "SumaCuadradoRiMediaaa = sum(Cuadrado)\n",
    "arianza = SumaCuadradoRiMediaaa / (n - 1)\n",
    "\n",
    "gradosLibertad = n - 1\n",
    "cc = 0.5 * ((-2.81 + (((2* gradosLibertad) - 1) ** 0.5)) ** 2)\n",
    "cc1 = 0.5 * ((0.06 + (((2* gradosLibertad) - 1) ** 0.5)) ** 2)\n",
    "limiteInferior1 = cc / (12 * (n - 1))\n",
    "limiteSuperior2 = cc1 / (12 * (n - 1))\n",
    "\n",
    "print(cc)\n",
    "print(cc1)\n",
    "print(limiteInferior)\n",
    "print(limiteSuperior)\n",
    "print(arianza)\n",
    "print(\"*-*-*-*-*-*\")\n",
    "print(RimenosMedia)\n",
    "\n",
    "X = 0.00494 - 0.497072568999999\n",
    "y = 0.00494 - 0.49707\n",
    "print(X)\n",
    "print(y)"
   ]
  }
 ],
 "metadata": {
  "interpreter": {
   "hash": "af153e239d61b5c0d363f35fe8a0509d492506f382d017c98fa3fb49fce70a72"
  },
  "kernelspec": {
   "display_name": "Python 3.10.2 64-bit",
   "language": "python",
   "name": "python3"
  },
  "language_info": {
   "codemirror_mode": {
    "name": "ipython",
    "version": 3
   },
   "file_extension": ".py",
   "mimetype": "text/x-python",
   "name": "python",
   "nbconvert_exporter": "python",
   "pygments_lexer": "ipython3",
   "version": "3.10.2"
  },
  "orig_nbformat": 4
 },
 "nbformat": 4,
 "nbformat_minor": 2
}
