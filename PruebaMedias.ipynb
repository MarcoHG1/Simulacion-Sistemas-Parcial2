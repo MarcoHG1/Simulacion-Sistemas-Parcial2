{
 "cells": [
  {
   "cell_type": "code",
   "execution_count": 7,
   "metadata": {},
   "outputs": [
    {
     "name": "stdout",
     "output_type": "stream",
     "text": [
      "El total de numeros de ri ( 10000 ) Han pasado la prueba de MEDIAS\n"
     ]
    }
   ],
   "source": [
    "numeros = []\n",
    "Li = 0.49434\n",
    "Ls = 0.50565\n",
    "valorTablas = 1.96\n",
    "n = 10000\n",
    "\n",
    "\n",
    "with open(f'./files/Numeros2.csv') as f:\n",
    "    for line in f:\n",
    "        temp = line.strip().split(',')  \n",
    "        for num in temp:\n",
    "            if num != '':\n",
    "                numeros.append(float(num))\n",
    "\n",
    "sumaRi = sum(numeros)\n",
    "MediaRi = (1/n) * sumaRi\n",
    "\n",
    "if (MediaRi > Li) & (MediaRi < Ls):\n",
    "    print(\"El total de numeros de ri (\", len(numeros),\") Han pasado la prueba de MEDIAS\")\n",
    "else:\n",
    "    print(\"El total de numeros de ri\", len(numeros),\" NO PASARON la prueba de medias\")\n",
    "\n"
   ]
  },
  {
   "cell_type": "code",
   "execution_count": 6,
   "metadata": {},
   "outputs": [
    {
     "name": "stdout",
     "output_type": "stream",
     "text": [
      "Suma de numeros Ri ------------------------> 5040.430889999986\n",
      "Media Ri ----------------------------------> 0.5040430889999986\n",
      "The total number of elements in the list --> 10000\n"
     ]
    }
   ],
   "source": [
    "print(\"Suma de numeros Ri ------------------------>\", sumaRi)\n",
    "\n",
    "print(\"Media Ri ---------------------------------->\", MediaRi)\n",
    "\n",
    "print(\"The total number of elements in the list -->\", len(numeros))\n",
    "\n",
    "print(\"*-*-*-*-*-*--*-*-*-*-*-*-*-*-*-*\")\n",
    "\n",
    "print(\"Limite inferior -->\", Li)\n",
    "\n",
    "print(\"Media Ri --------->\", MediaRi)\n",
    "\n",
    "print(\"Limite superioir ->\", Ls)"
   ]
  }
 ],
 "metadata": {
  "interpreter": {
   "hash": "af153e239d61b5c0d363f35fe8a0509d492506f382d017c98fa3fb49fce70a72"
  },
  "kernelspec": {
   "display_name": "Python 3.10.2 64-bit",
   "language": "python",
   "name": "python3"
  },
  "language_info": {
   "codemirror_mode": {
    "name": "ipython",
    "version": 3
   },
   "file_extension": ".py",
   "mimetype": "text/x-python",
   "name": "python",
   "nbconvert_exporter": "python",
   "pygments_lexer": "ipython3",
   "version": "3.10.2"
  },
  "orig_nbformat": 4
 },
 "nbformat": 4,
 "nbformat_minor": 2
}
